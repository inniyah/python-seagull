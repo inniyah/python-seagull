{
 "cells": [
  {
   "cell_type": "code",
   "execution_count": 1,
   "metadata": {
    "collapsed": true
   },
   "outputs": [],
   "source": [
    "from seagull import scenegraph as sg"
   ]
  },
  {
   "cell_type": "code",
   "execution_count": 2,
   "metadata": {
    "collapsed": true
   },
   "outputs": [],
   "source": [
    "def _koch(n, k0):\n",
    "        if n <= 1:\n",
    "                return k0\n",
    "        kp = _koch(n-1, k0)\n",
    "        return sg.Group(children=[\n",
    "                sg.Use(kp, transform=t)\n",
    "                for t in [\n",
    "                        [sg.Scale(1/3)],\n",
    "                        [sg.Scale(1/3), sg.Translate(100), sg.Rotate(-60)],\n",
    "                        [sg.Scale(1/3), sg.Translate(200), sg.Rotate(-120), sg.Scale(1, -1)],\n",
    "                        [sg.Scale(1/3), sg.Translate(200)],\n",
    "                ]\n",
    "        ])"
   ]
  },
  {
   "cell_type": "code",
   "execution_count": 3,
   "metadata": {
    "collapsed": true
   },
   "outputs": [],
   "source": [
    "def koch(n, k0=sg.Line(x2=100)):\n",
    "        return sg.Group(\n",
    "                transform=[sg.Scale(10), sg.Translate(10, 40)],\n",
    "                stroke=sg.Color.black,\n",
    "                stroke_width=.05*3**n,\n",
    "                stroke_linecap=\"round\",\n",
    "                children=[_koch(n, k0)],\n",
    "        )"
   ]
  },
  {
   "cell_type": "code",
   "execution_count": 4,
   "metadata": {
    "collapsed": true
   },
   "outputs": [],
   "source": [
    "scene = sg.Group(children=[koch(6)])"
   ]
  },
  {
   "cell_type": "code",
   "execution_count": 5,
   "metadata": {
    "collapsed": true
   },
   "outputs": [],
   "source": [
    "from seagull.xml.serializer import serialize\n",
    "from IPython.display import SVG"
   ]
  },
  {
   "cell_type": "code",
   "execution_count": 6,
   "metadata": {
    "collapsed": false,
    "scrolled": false
   },
   "outputs": [
    {
     "data": {
      "image/svg+xml": [
       "<svg version=\"1.1\" viewBox=\"99.35048094716167 110.57486540518713 1001.2990381056766 290.1751345948129\" xmlns=\"http://www.w3.org/2000/svg\" xmlns:xlink=\"http://www.w3.org/1999/xlink\">\n",
       "\t<defs>\n",
       "\t\t<g id=\"105CFFA90\">\n",
       "\t\t\t<use transform=\"scale(0.3333333333333333,0.3333333333333333)\" xlink:href=\"#105CFF358\"/>\n",
       "\t\t\t<use transform=\"scale(0.3333333333333333,0.3333333333333333) translate(100,0) rotate(-60,0,0)\" xlink:href=\"#105CFF358\"/>\n",
       "\t\t\t<use transform=\"scale(0.3333333333333333,0.3333333333333333) translate(200,0) rotate(-120,0,0) scale(1,-1)\" xlink:href=\"#105CFF358\"/>\n",
       "\t\t\t<use transform=\"scale(0.3333333333333333,0.3333333333333333) translate(200,0)\" xlink:href=\"#105CFF358\"/>\n",
       "\t\t</g>\n",
       "\t\t<line id=\"105CFF358\" x2=\"100\"/>\n",
       "\t\t<g id=\"105CDB470\">\n",
       "\t\t\t<use transform=\"scale(0.3333333333333333,0.3333333333333333)\" xlink:href=\"#105CDB128\"/>\n",
       "\t\t\t<use transform=\"scale(0.3333333333333333,0.3333333333333333) translate(100,0) rotate(-60,0,0)\" xlink:href=\"#105CDB128\"/>\n",
       "\t\t\t<use transform=\"scale(0.3333333333333333,0.3333333333333333) translate(200,0) rotate(-120,0,0) scale(1,-1)\" xlink:href=\"#105CDB128\"/>\n",
       "\t\t\t<use transform=\"scale(0.3333333333333333,0.3333333333333333) translate(200,0)\" xlink:href=\"#105CDB128\"/>\n",
       "\t\t</g>\n",
       "\t\t<g id=\"105CFFDA0\">\n",
       "\t\t\t<use transform=\"scale(0.3333333333333333,0.3333333333333333)\" xlink:href=\"#105CFFA90\"/>\n",
       "\t\t\t<use transform=\"scale(0.3333333333333333,0.3333333333333333) translate(100,0) rotate(-60,0,0)\" xlink:href=\"#105CFFA90\"/>\n",
       "\t\t\t<use transform=\"scale(0.3333333333333333,0.3333333333333333) translate(200,0) rotate(-120,0,0) scale(1,-1)\" xlink:href=\"#105CFFA90\"/>\n",
       "\t\t\t<use transform=\"scale(0.3333333333333333,0.3333333333333333) translate(200,0)\" xlink:href=\"#105CFFA90\"/>\n",
       "\t\t</g>\n",
       "\t\t<g id=\"105CDB128\">\n",
       "\t\t\t<use transform=\"scale(0.3333333333333333,0.3333333333333333)\" xlink:href=\"#105CFFDA0\"/>\n",
       "\t\t\t<use transform=\"scale(0.3333333333333333,0.3333333333333333) translate(100,0) rotate(-60,0,0)\" xlink:href=\"#105CFFDA0\"/>\n",
       "\t\t\t<use transform=\"scale(0.3333333333333333,0.3333333333333333) translate(200,0) rotate(-120,0,0) scale(1,-1)\" xlink:href=\"#105CFFDA0\"/>\n",
       "\t\t\t<use transform=\"scale(0.3333333333333333,0.3333333333333333) translate(200,0)\" xlink:href=\"#105CFFDA0\"/>\n",
       "\t\t</g>\n",
       "\t</defs>\n",
       "\t<g>\n",
       "\t\t<g stroke=\"black\" stroke-linecap=\"round\" stroke-width=\"36.45\" transform=\"scale(10,10) translate(10,40)\">\n",
       "\t\t\t<g>\n",
       "\t\t\t\t<use transform=\"scale(0.3333333333333333,0.3333333333333333)\" xlink:href=\"#105CDB470\"/>\n",
       "\t\t\t\t<use transform=\"scale(0.3333333333333333,0.3333333333333333) translate(100,0) rotate(-60,0,0)\" xlink:href=\"#105CDB470\"/>\n",
       "\t\t\t\t<use transform=\"scale(0.3333333333333333,0.3333333333333333) translate(200,0) rotate(-120,0,0) scale(1,-1)\" xlink:href=\"#105CDB470\"/>\n",
       "\t\t\t\t<use transform=\"scale(0.3333333333333333,0.3333333333333333) translate(200,0)\" xlink:href=\"#105CDB470\"/>\n",
       "\t\t\t</g>\n",
       "\t\t</g>\n",
       "\t</g>\n",
       "</svg>"
      ],
      "text/plain": [
       "<IPython.core.display.SVG object>"
      ]
     },
     "execution_count": 6,
     "metadata": {},
     "output_type": "execute_result"
    }
   ],
   "source": [
    "SVG(serialize(scene))"
   ]
  },
  {
   "cell_type": "code",
   "execution_count": null,
   "metadata": {
    "collapsed": true
   },
   "outputs": [],
   "source": []
  }
 ],
 "metadata": {
  "kernelspec": {
   "display_name": "Python 3",
   "language": "python",
   "name": "python3"
  },
  "language_info": {
   "codemirror_mode": {
    "name": "ipython",
    "version": 3
   },
   "file_extension": ".py",
   "mimetype": "text/x-python",
   "name": "python",
   "nbconvert_exporter": "python",
   "pygments_lexer": "ipython3",
   "version": "3.4.3"
  }
 },
 "nbformat": 4,
 "nbformat_minor": 0
}
